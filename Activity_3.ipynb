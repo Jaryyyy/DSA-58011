{
  "nbformat": 4,
  "nbformat_minor": 0,
  "metadata": {
    "colab": {
      "provenance": [],
      "authorship_tag": "ABX9TyOSzT+gqX38aDs8hTlKrPub",
      "include_colab_link": true
    },
    "kernelspec": {
      "name": "python3",
      "display_name": "Python 3"
    },
    "language_info": {
      "name": "python"
    }
  },
  "cells": [
    {
      "cell_type": "markdown",
      "metadata": {
        "id": "view-in-github",
        "colab_type": "text"
      },
      "source": [
        "<a href=\"https://colab.research.google.com/github/Jaryyyy/DSA-58011/blob/main/Activity_3.ipynb\" target=\"_parent\"><img src=\"https://colab.research.google.com/assets/colab-badge.svg\" alt=\"Open In Colab\"/></a>"
      ]
    },
    {
      "cell_type": "markdown",
      "source": [
        "Original Code\n"
      ],
      "metadata": {
        "id": "JMAM80x1A-yd"
      }
    },
    {
      "cell_type": "code",
      "execution_count": 1,
      "metadata": {
        "colab": {
          "base_uri": "https://localhost:8080/"
        },
        "id": "D0B3q1voAp9g",
        "outputId": "9d7a0523-a132-4a31-86ae-545a3c113690"
      },
      "outputs": [
        {
          "output_type": "stream",
          "name": "stdout",
          "text": [
            "Pushed Element: 1\n",
            "Pushed Element: 2\n",
            "Pushed Element: 3\n",
            "Pushed Element: 4\n",
            "Pushed Element: 5\n",
            "The elements in the stack are: ['1', '2', '3', '4', '5']\n",
            "Length of the Stack : \n",
            "5\n"
          ]
        }
      ],
      "source": [
        "def create_stack():\n",
        "  stack = []\n",
        "  return stack\n",
        "\n",
        "def is_empty(stack):\n",
        "  return len(stack) == 0\n",
        "\n",
        "def push(stack,item):\n",
        "  stack.append(item)\n",
        "  print(\"Pushed Element: \"+ item)\n",
        "\n",
        "def pop(stack):\n",
        "  if (is_empty(stack)):\n",
        "    return\"The stack is empty\"\n",
        "  return stack.pop()\n",
        "\n",
        "stack = create_stack()\n",
        "push(stack, str(1))\n",
        "push(stack, str(2))\n",
        "push(stack, str(3))\n",
        "push(stack, str(4))\n",
        "push(stack, str(5))\n",
        "\n",
        "\n",
        "print(\"The elements in the stack are: \"+str(stack))\n",
        "from operator import length_hint\n",
        "inp_list = [1,2,3,4,5]\n",
        "print(\"Length of the Stack : \")\n",
        "size = length_hint(inp_list)\n",
        "print(size)"
      ]
    },
    {
      "cell_type": "markdown",
      "source": [],
      "metadata": {
        "id": "0K10pXUaBEdG"
      }
    },
    {
      "cell_type": "code",
      "source": [
        "def create_stack():\n",
        "    stack = []\n",
        "    return stack\n",
        "\n",
        "def is_empty(stack):\n",
        "    return len(stack) == 0\n",
        "\n",
        "def push(stack, item):\n",
        "    stack.append(item)\n",
        "    print(\"Pushed Element: \" + item)\n",
        "\n",
        "def pop(stack):\n",
        "    if (is_empty(stack)):\n",
        "        return \"The stack is empty\"\n",
        "    return stack.pop()\n",
        "\n",
        "stack = create_stack()\n",
        "push(stack, str(1))\n",
        "push(stack, str(2))\n",
        "push(stack, str(3))\n",
        "push(stack, str(4))\n",
        "push(stack, str(5))\n",
        "\n",
        "print(\"The elements in the stack are:\"+ str(stack))\n",
        "\n",
        "print(\"The elements popped from the stack:\", [stack.pop(), stack.pop()])\n",
        "\n",
        "print(\"The elements left in the stack are:\", stack)"
      ],
      "metadata": {
        "colab": {
          "base_uri": "https://localhost:8080/"
        },
        "id": "oRn7svoKBBfq",
        "outputId": "9ea58b98-f789-4deb-81a0-c8cdb1b4e1ba"
      },
      "execution_count": 2,
      "outputs": [
        {
          "output_type": "stream",
          "name": "stdout",
          "text": [
            "Pushed Element: 1\n",
            "Pushed Element: 2\n",
            "Pushed Element: 3\n",
            "Pushed Element: 4\n",
            "Pushed Element: 5\n",
            "The elements in the stack are:['1', '2', '3', '4', '5']\n",
            "The elements popped from the stack: ['5', '4']\n",
            "The elements left in the stack are: ['1', '2', '3']\n"
          ]
        }
      ]
    },
    {
      "cell_type": "code",
      "source": [
        "def create_stack():\n",
        "  stack = []\n",
        "  return stack\n",
        "\n",
        "def is_empty(stack):\n",
        "  return len(stack) == 0\n",
        "\n",
        "def push(stack,item):\n",
        "  stack.append(item)\n",
        "  print(\"Pushed Element: \"+ item)\n",
        "\n",
        "def pop(stack):\n",
        "  if (is_empty(stack)):\n",
        "    return\"The stack is empty\"\n",
        "  return stack.pop()\n",
        "\n",
        "stack = create_stack()\n",
        "push(stack, str(1))\n",
        "push(stack, str(2))\n",
        "push(stack, str(3))\n",
        "push(stack, str(4))\n",
        "push(stack, str(5))\n",
        "\n",
        "\n",
        "print(\"The elements in the stack are: \"+str(stack))\n",
        "from operator import length_hint\n",
        "inp_list = [1,2,3,4,5]\n",
        "print(\"Length of the Stack : \")\n",
        "size = length_hint(inp_list)\n",
        "print(size)"
      ],
      "metadata": {
        "colab": {
          "base_uri": "https://localhost:8080/"
        },
        "id": "BG-1jb1GBL97",
        "outputId": "12a1ccaa-3f05-4eba-ff3d-04af3a2f1c02"
      },
      "execution_count": 3,
      "outputs": [
        {
          "output_type": "stream",
          "name": "stdout",
          "text": [
            "Pushed Element: 1\n",
            "Pushed Element: 2\n",
            "Pushed Element: 3\n",
            "Pushed Element: 4\n",
            "Pushed Element: 5\n",
            "The elements in the stack are: ['1', '2', '3', '4', '5']\n",
            "Length of the Stack : \n",
            "5\n"
          ]
        }
      ]
    }
  ]
}