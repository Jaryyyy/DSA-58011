{
  "nbformat": 4,
  "nbformat_minor": 0,
  "metadata": {
    "colab": {
      "provenance": [],
      "authorship_tag": "ABX9TyMwswZkivIgFgNJe1OofVNb",
      "include_colab_link": true
    },
    "kernelspec": {
      "name": "python3",
      "display_name": "Python 3"
    },
    "language_info": {
      "name": "python"
    }
  },
  "cells": [
    {
      "cell_type": "markdown",
      "metadata": {
        "id": "view-in-github",
        "colab_type": "text"
      },
      "source": [
        "<a href=\"https://colab.research.google.com/github/Jaryyyy/DSA-58011/blob/main/Long_Quiz_1.ipynb\" target=\"_parent\"><img src=\"https://colab.research.google.com/assets/colab-badge.svg\" alt=\"Open In Colab\"/></a>"
      ]
    },
    {
      "cell_type": "markdown",
      "source": [
        "Array"
      ],
      "metadata": {
        "id": "uk23Do8ld9kE"
      }
    },
    {
      "cell_type": "code",
      "execution_count": 3,
      "metadata": {
        "colab": {
          "base_uri": "https://localhost:8080/"
        },
        "id": "nGPk2W92XiGj",
        "outputId": "9208d192-088c-435a-9f16-a95858bd3f42"
      },
      "outputs": [
        {
          "output_type": "stream",
          "name": "stdout",
          "text": [
            "Full name : ['Jayr', 'Arias', 'Biong']\n",
            "Reversed Full Name: ['Biong', 'Arias', 'Jayr']\n"
          ]
        }
      ],
      "source": [
        "arr = [\"Jayr\", \"Arias\",\"Biong\"]\n",
        "print(\"Full name :\",arr)\n",
        " \n",
        "res = arr[::-1] \n",
        "print(\"Reversed Full Name:\",res)"
      ]
    }
  ]
}