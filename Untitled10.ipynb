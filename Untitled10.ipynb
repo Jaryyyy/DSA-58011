{
  "nbformat": 4,
  "nbformat_minor": 0,
  "metadata": {
    "colab": {
      "provenance": [],
      "authorship_tag": "ABX9TyNp6agjc3rl2I/sD0h+S47o",
      "include_colab_link": true
    },
    "kernelspec": {
      "name": "python3",
      "display_name": "Python 3"
    },
    "language_info": {
      "name": "python"
    }
  },
  "cells": [
    {
      "cell_type": "markdown",
      "metadata": {
        "id": "view-in-github",
        "colab_type": "text"
      },
      "source": [
        "<a href=\"https://colab.research.google.com/github/Jaryyyy/DSA-58011/blob/main/Untitled10.ipynb\" target=\"_parent\"><img src=\"https://colab.research.google.com/assets/colab-badge.svg\" alt=\"Open In Colab\"/></a>"
      ]
    },
    {
      "cell_type": "code",
      "execution_count": 8,
      "metadata": {
        "colab": {
          "base_uri": "https://localhost:8080/"
        },
        "id": "--zsD_Dardz-",
        "outputId": "ad91b323-96c4-419d-c0c1-eaf1c259a731"
      },
      "outputs": [
        {
          "output_type": "stream",
          "name": "stdout",
          "text": [
            "a\n",
            "e\n",
            "i\n",
            "o\n",
            "u\n"
          ]
        }
      ],
      "source": [
        "class Node:\n",
        "\n",
        "  def __init__(self,data):\n",
        "    self.data=data      \n",
        "    self.next=None     \n",
        "\n",
        "class LinkedList:\n",
        "  def __init__(self):\n",
        "    self.head = None    \n",
        "  def printlist(self):\n",
        "    temp=self.head\n",
        "    while(temp):\n",
        "      print(temp.data)\n",
        "      temp=temp.next\n",
        "llist = LinkedList()\n",
        "llist.head = Node('a')\n",
        "second = Node('e')\n",
        "third= Node('i')\n",
        "fourth= Node('o')\n",
        "fifth= Node('u')\n",
        "\n",
        "llist.head.next = second\n",
        "second.next = third\n",
        "third.next = fourth\n",
        "fourth.next = fifth\n",
        "\n",
        "\n",
        "llist.printlist()\n",
        "\n",
        "\n",
        "\n"
      ]
    }
  ]
}