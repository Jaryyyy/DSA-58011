{
  "nbformat": 4,
  "nbformat_minor": 0,
  "metadata": {
    "colab": {
      "provenance": [],
      "authorship_tag": "ABX9TyNJekkzKWsI3C1AOUhzqxUX",
      "include_colab_link": true
    },
    "kernelspec": {
      "name": "python3",
      "display_name": "Python 3"
    },
    "language_info": {
      "name": "python"
    }
  },
  "cells": [
    {
      "cell_type": "markdown",
      "metadata": {
        "id": "view-in-github",
        "colab_type": "text"
      },
      "source": [
        "<a href=\"https://colab.research.google.com/github/Jaryyyy/DSA-58011/blob/main/Untitled13.ipynb\" target=\"_parent\"><img src=\"https://colab.research.google.com/assets/colab-badge.svg\" alt=\"Open In Colab\"/></a>"
      ]
    },
    {
      "cell_type": "markdown",
      "source": [
        "Write a Python program to create an array of 10 integers and display the array items. Access individual elements through indexes and compute for the sum."
      ],
      "metadata": {
        "id": "-4QU-_0wZPHT"
      }
    },
    {
      "cell_type": "code",
      "execution_count": 5,
      "metadata": {
        "colab": {
          "base_uri": "https://localhost:8080/"
        },
        "id": "YPsX04s4UkkX",
        "outputId": "40d5f9bf-0f2a-4097-e5f1-5a45acc569d9"
      },
      "outputs": [
        {
          "output_type": "stream",
          "name": "stdout",
          "text": [
            " First element :  1\n",
            " Second elemen :  2\n",
            " Third element :  3\n",
            " Fourth element :  4\n",
            " Fifth element :  5\n",
            " Sixth element :  6\n",
            " Seventh element :  7\n",
            " Eighth element :  8\n",
            " Ninth element :  9\n",
            " Tenth element :  0\n",
            " Sum of the array is :  45\n"
          ]
        }
      ],
      "source": [
        "import array as arr\n",
        "a = arr.array (  'i' , [ 1,2,3,4,5,6,7,8,9,0 ] )\n",
        "print ( \" First element : \" , a [ 0 ] )\n",
        "print ( \" Second elemen : \" , a [ 1 ] )           \n",
        "print ( \" Third element : \" ,a [ 2 ] ) \n",
        "print ( \" Fourth element : \" , a [ 3 ] )\n",
        "print ( \" Fifth element : \" , a [ 4 ] )\n",
        "print ( \" Sixth element : \" , a [ 5 ] )\n",
        "print ( \" Seventh element : \" , a [ 6 ] )\n",
        "print ( \" Eighth element : \" , a [ 7 ] )\n",
        "print ( \" Ninth element : \" , a [ 8 ] )\n",
        "print ( \" Tenth element : \" , a [ 9 ] )\n",
        "def _sum ( arr ) :\n",
        "    sum = 0\n",
        "    for i in arr :\n",
        "        sum = sum + i\n",
        "    return ( sum )\n",
        "arr = [ ]\n",
        "arr = [ 1,2,3,4,5,6,7,8,9,0 ]\n",
        "n = len ( arr )\n",
        "ans = _sum ( arr )\n",
        "print ( ' Sum of the array is : ' , ans )"
      ]
    },
    {
      "cell_type": "markdown",
      "source": [
        "Write a Python program to append a new item to the end of the array. Original array: numbers = [1, 2, 3, 4, 5, 6, 7, 8, 9, 10]"
      ],
      "metadata": {
        "id": "iQYOFSZvZYm9"
      }
    },
    {
      "cell_type": "code",
      "source": [
        "import array as arr\n",
        "\n",
        "a = arr.array('i', [1, 2, 3])\n",
        " \n",
        "print (\"Array before insertion : \", end =\" \")\n",
        "for i in range (0, 3):\n",
        "    print (a[i], end =\" \")\n",
        "print()\n",
        "\n",
        "a.insert(3, 4)\n",
        " \n",
        "print (\"Array after insertion : \", end =\" \")\n",
        "for i in (a):\n",
        "    print (i, end =\" \")\n",
        "print()"
      ],
      "metadata": {
        "colab": {
          "base_uri": "https://localhost:8080/"
        },
        "id": "D3-Xpm84WNzW",
        "outputId": "60930186-ccd9-47cf-a835-0bc6dc5d67bf"
      },
      "execution_count": 6,
      "outputs": [
        {
          "output_type": "stream",
          "name": "stdout",
          "text": [
            "Array before insertion :  1 2 3 \n",
            "Array after insertion :  1 2 3 4 \n"
          ]
        }
      ]
    },
    {
      "cell_type": "markdown",
      "source": [
        "Write a Python program to insert a new item before the second element in an existing array. Original array: numbers = [1, 2, 3, 4, 5, 6, 7, 8, 9, 10]"
      ],
      "metadata": {
        "id": "Bi_t4aGcZcX4"
      }
    },
    {
      "cell_type": "code",
      "source": [
        "import array as arr\n",
        "a = arr.array (  'i' , [ 1,2,3,4,5,6,7,8,9,10 ] )\n",
        "print ( \" Array before insertion : \" , end = \" \" )\n",
        "for i in range ( 0 , 10 ) :\n",
        "    print ( a [ i ] , end = \" \" )\n",
        "print ( )\n",
        "a.insert ( 1 , 11 )\n",
        "print ( \" Array after insertion : \" , end = \" \" )\n",
        "for i in ( a ) :\n",
        "    print ( i , end = \" \" )\n",
        "print ( )"
      ],
      "metadata": {
        "colab": {
          "base_uri": "https://localhost:8080/"
        },
        "id": "NBM-jU-aYhNq",
        "outputId": "96a690df-3a9a-491a-b4d0-c8ab6154976f"
      },
      "execution_count": 8,
      "outputs": [
        {
          "output_type": "stream",
          "name": "stdout",
          "text": [
            " Array before insertion :  1 2 3 4 5 6 7 8 9 10 \n",
            " Array after insertion :  1 11 2 3 4 5 6 7 8 9 10 \n"
          ]
        }
      ]
    },
    {
      "cell_type": "markdown",
      "source": [
        "Write a Python program to reverse the order of the items in the array.Original array: numbers = [5, 4, 3, 2, 1]"
      ],
      "metadata": {
        "id": "asTRpEYYZfta"
      }
    },
    {
      "cell_type": "code",
      "source": [
        "arr = [ 1,2,3,4,5 ]\n",
        "print ( \" Original Array : \" , arr )\n",
        "res = arr [ :: - 1 ]\n",
        "print ( \" Reversed Array : \" , res )"
      ],
      "metadata": {
        "colab": {
          "base_uri": "https://localhost:8080/"
        },
        "id": "5A0M5kIWZFLF",
        "outputId": "aceaf48e-de58-48f6-d074-43bf5c9f6d47"
      },
      "execution_count": 9,
      "outputs": [
        {
          "output_type": "stream",
          "name": "stdout",
          "text": [
            " Original Array :  [1, 2, 3, 4, 5]\n",
            " Reversed Array :  [5, 4, 3, 2, 1]\n"
          ]
        }
      ]
    },
    {
      "cell_type": "markdown",
      "source": [
        "Write a Python program to get the length of the array. Original array: numbers = [5, 4, 3, 2, 1]"
      ],
      "metadata": {
        "id": "NDHk7HXhZ_E8"
      }
    },
    {
      "cell_type": "code",
      "source": [
        "from operator import length_hint\n",
        "inp_1st = [ 5,4,3,2,1 ]\n",
        "print ( \" Length of the array : \" )\n",
        "size = length_hint ( inp_1st )\n",
        "print ( size )"
      ],
      "metadata": {
        "colab": {
          "base_uri": "https://localhost:8080/"
        },
        "id": "ozWzOVY7ZNnS",
        "outputId": "5db28099-1876-4cae-e3d8-5276071068d8"
      },
      "execution_count": 11,
      "outputs": [
        {
          "output_type": "stream",
          "name": "stdout",
          "text": [
            " Length of the array : \n",
            "5\n"
          ]
        }
      ]
    }
  ]
}