{
  "nbformat": 4,
  "nbformat_minor": 0,
  "metadata": {
    "colab": {
      "name": "Array.ipynb",
      "provenance": [],
      "include_colab_link": true
    },
    "kernelspec": {
      "name": "python3",
      "display_name": "Python 3"
    },
    "language_info": {
      "name": "python"
    }
  },
  "cells": [
    {
      "cell_type": "markdown",
      "metadata": {
        "id": "view-in-github",
        "colab_type": "text"
      },
      "source": [
        "<a href=\"https://colab.research.google.com/github/Jaryyyy/DSA-58011/blob/main/Array.ipynb\" target=\"_parent\"><img src=\"https://colab.research.google.com/assets/colab-badge.svg\" alt=\"Open In Colab\"/></a>"
      ]
    },
    {
      "cell_type": "markdown",
      "source": [
        "\n",
        "Accessing Elements in the Array"
      ],
      "metadata": {
        "id": "12lK2F5SK95V"
      }
    },
    {
      "cell_type": "code",
      "source": [
        "animals = ['cat','dog','fish']\n",
        "\n",
        "x = animals\n",
        "\n",
        "print(x)"
      ],
      "metadata": {
        "id": "fUv6ni91QuHf",
        "colab": {
          "base_uri": "https://localhost:8080/"
        },
        "outputId": "b5afbcfb-2de6-4b03-dd69-801c8b0258d9"
      },
      "execution_count": 1,
      "outputs": [
        {
          "output_type": "stream",
          "name": "stdout",
          "text": [
            "['cat', 'dog', 'fish']\n"
          ]
        }
      ]
    },
    {
      "cell_type": "markdown",
      "source": [
        "Modifying Elements in the Array"
      ],
      "metadata": {
        "id": "BcevGj-uQwEQ"
      }
    },
    {
      "cell_type": "code",
      "source": [
        "animals = ['cat','dog','fish']\n",
        "animals[0] = 'monkey'\n",
        "x=animals[0]\n",
        "x = len(animals)\n",
        "print(x)"
      ],
      "metadata": {
        "id": "gEYg9KyhRGl3",
        "colab": {
          "base_uri": "https://localhost:8080/"
        },
        "outputId": "146ff44d-9a6c-4058-b6ed-a2d6e15472d4"
      },
      "execution_count": 2,
      "outputs": [
        {
          "output_type": "stream",
          "name": "stdout",
          "text": [
            "3\n"
          ]
        }
      ]
    },
    {
      "cell_type": "markdown",
      "source": [
        "Looping Array Elements"
      ],
      "metadata": {
        "id": "qdV4SxHdRK5_"
      }
    },
    {
      "cell_type": "code",
      "source": [
        "animals = ['cat','dog','fish']\n",
        "for x in animals:\n",
        "  print(x)"
      ],
      "metadata": {
        "id": "d4RIfM1bRNE-",
        "colab": {
          "base_uri": "https://localhost:8080/"
        },
        "outputId": "ff29d093-6d21-4c68-e752-a9c366615807"
      },
      "execution_count": 3,
      "outputs": [
        {
          "output_type": "stream",
          "name": "stdout",
          "text": [
            "cat\n",
            "dog\n",
            "fish\n"
          ]
        }
      ]
    },
    {
      "cell_type": "markdown",
      "source": [
        "Adding Element in the Array"
      ],
      "metadata": {
        "id": "PiqXVmnEROuz"
      }
    },
    {
      "cell_type": "code",
      "source": [
        "animals = ['cat','dog','fish']\n",
        "animals.append('monkey')\n",
        "print(animals)"
      ],
      "metadata": {
        "id": "vDKH6vLWRQUv",
        "colab": {
          "base_uri": "https://localhost:8080/"
        },
        "outputId": "72a52c2b-9332-4405-8714-c9068cf26000"
      },
      "execution_count": 4,
      "outputs": [
        {
          "output_type": "stream",
          "name": "stdout",
          "text": [
            "['cat', 'dog', 'fish', 'monkey']\n"
          ]
        }
      ]
    },
    {
      "cell_type": "markdown",
      "source": [
        "Removing an Element in the Array"
      ],
      "metadata": {
        "id": "vRc5-6k6RSR-"
      }
    },
    {
      "cell_type": "code",
      "source": [
        "animals = ['cat','dog','fish']\n",
        "animals.pop(1)\n",
        "animals.pop(0)\n",
        "print(animals)"
      ],
      "metadata": {
        "id": "8DBrHs3eRUGW",
        "colab": {
          "base_uri": "https://localhost:8080/"
        },
        "outputId": "ee2b7f2b-71fe-41d6-e60a-323be3ebad66"
      },
      "execution_count": 5,
      "outputs": [
        {
          "output_type": "stream",
          "name": "stdout",
          "text": [
            "['fish']\n"
          ]
        }
      ]
    }
  ]
}