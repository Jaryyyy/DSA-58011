{
  "nbformat": 4,
  "nbformat_minor": 0,
  "metadata": {
    "colab": {
      "provenance": [],
      "authorship_tag": "ABX9TyOUWjkpYOyCkJqD8L4/FT96",
      "include_colab_link": true
    },
    "kernelspec": {
      "name": "python3",
      "display_name": "Python 3"
    },
    "language_info": {
      "name": "python"
    }
  },
  "cells": [
    {
      "cell_type": "markdown",
      "metadata": {
        "id": "view-in-github",
        "colab_type": "text"
      },
      "source": [
        "<a href=\"https://colab.research.google.com/github/Jaryyyy/DSA-58011/blob/main/Untitled9.ipynb\" target=\"_parent\"><img src=\"https://colab.research.google.com/assets/colab-badge.svg\" alt=\"Open In Colab\"/></a>"
      ]
    },
    {
      "cell_type": "markdown",
      "source": [
        "Example 1"
      ],
      "metadata": {
        "id": "XDxIIljfbrlQ"
      }
    },
    {
      "cell_type": "code",
      "execution_count": 1,
      "metadata": {
        "colab": {
          "base_uri": "https://localhost:8080/"
        },
        "id": "ziRIQKuZbExG",
        "outputId": "f9afed76-0eca-4947-baee-6df2a8b1538f"
      },
      "outputs": [
        {
          "output_type": "stream",
          "name": "stdout",
          "text": [
            "i\n",
            "f\n"
          ]
        }
      ],
      "source": [
        "import array as arr\n",
        "arr.typecodes\n",
        "a= arr.array('i',[1,2,3,4,5,6])\n",
        "b=arr.array('f',[1.5,2.5,3.5,4.5,5.5,6.5,7.5,8.5,9.5])\n",
        "print(a.typecode)\n",
        "print(b.typecode)"
      ]
    },
    {
      "cell_type": "markdown",
      "source": [
        "Example 2 Create array elements of array naem a to float/decimal numbers"
      ],
      "metadata": {
        "id": "MT20S7czbpsP"
      }
    },
    {
      "cell_type": "code",
      "source": [
        "a = arr.array('f',[1,2,3,4,5,6,7,8,9,10])\n",
        "print (a)"
      ],
      "metadata": {
        "colab": {
          "base_uri": "https://localhost:8080/"
        },
        "id": "k78AdbQlbPJ6",
        "outputId": "c67df0a2-9ceb-4a7c-d7b4-ead5dc7e350a"
      },
      "execution_count": 2,
      "outputs": [
        {
          "output_type": "stream",
          "name": "stdout",
          "text": [
            "array('f', [1.0, 2.0, 3.0, 4.0, 5.0, 6.0, 7.0, 8.0, 9.0, 10.0])\n"
          ]
        }
      ]
    },
    {
      "cell_type": "markdown",
      "source": [
        "Insert an element:11 to the first index of the array a"
      ],
      "metadata": {
        "id": "Jl1efKgQbneV"
      }
    },
    {
      "cell_type": "code",
      "source": [
        "a.insert(0,11)\n",
        "print(a)\n",
        "\n",
        "b[-1]=12\n",
        "print(b)"
      ],
      "metadata": {
        "colab": {
          "base_uri": "https://localhost:8080/"
        },
        "id": "vuTY5vYwbQ4d",
        "outputId": "6c52b126-7318-4089-f362-7ddb90813356"
      },
      "execution_count": 3,
      "outputs": [
        {
          "output_type": "stream",
          "name": "stdout",
          "text": [
            "array('f', [11.0, 1.0, 2.0, 3.0, 4.0, 5.0, 6.0, 7.0, 8.0, 9.0, 10.0])\n",
            "array('f', [1.5, 2.5, 3.5, 4.5, 5.5, 6.5, 7.5, 8.5, 12.0])\n"
          ]
        }
      ]
    },
    {
      "cell_type": "code",
      "source": [
        "a = arr.array('i',[1,2,3,4,5,6,7,8,9,10])\n",
        "print(a)\n",
        "a.insert(9,-1)\n",
        "print(a)"
      ],
      "metadata": {
        "colab": {
          "base_uri": "https://localhost:8080/"
        },
        "id": "JzpuycuabRhh",
        "outputId": "d6b89d7e-cd0c-4a2f-a42f-886927607a96"
      },
      "execution_count": 4,
      "outputs": [
        {
          "output_type": "stream",
          "name": "stdout",
          "text": [
            "array('i', [1, 2, 3, 4, 5, 6, 7, 8, 9, 10])\n",
            "array('i', [1, 2, 3, 4, 5, 6, 7, 8, 9, -1, 10])\n"
          ]
        }
      ]
    },
    {
      "cell_type": "markdown",
      "source": [
        "Linked List"
      ],
      "metadata": {
        "id": "sDKdAe0KbkCM"
      }
    },
    {
      "cell_type": "code",
      "source": [
        "class Node:\n",
        "  def __init__(self,data):\n",
        "    self.data = data\n",
        "    self.next = None\n",
        "\n",
        "class LinkedList:\n",
        "  def __init__(self):\n",
        "    self.head = None\n",
        "  def printList(self):\n",
        "    temp = self.head\n",
        "    while(temp):\n",
        "      print(temp.data)\n",
        "      temp = temp.next\n",
        "\n",
        "\n",
        "llist = LinkedList()\n",
        "\n",
        "llist.head = Node(1)\n",
        "second = Node(2)\n",
        "third = Node(3)\n",
        "\n",
        "llist.head.next = second\n",
        "second.next = third\n",
        "\n",
        "llist.printList()"
      ],
      "metadata": {
        "colab": {
          "base_uri": "https://localhost:8080/"
        },
        "id": "MTk1_gDUbUHH",
        "outputId": "fe6a978d-6176-45e9-b97d-ec045044e084"
      },
      "execution_count": 5,
      "outputs": [
        {
          "output_type": "stream",
          "name": "stdout",
          "text": [
            "1\n",
            "2\n",
            "3\n"
          ]
        }
      ]
    }
  ]
}